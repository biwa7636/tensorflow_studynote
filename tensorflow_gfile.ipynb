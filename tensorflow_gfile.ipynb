{
 "cells": [
  {
   "cell_type": "code",
   "execution_count": 32,
   "metadata": {},
   "outputs": [],
   "source": [
    "import tensorflow as tf\n",
    "import sys\n",
    "import os\n",
    "import stat"
   ]
  },
  {
   "cell_type": "markdown",
   "metadata": {},
   "source": [
    "###  This is a fun exercise playing with all the built in functions within [tf.gfile](https://www.tensorflow.org/api_docs/python/tf/gfile/Rename) for file manipulation. \n",
    "\n",
    "\n",
    "√ Copy(...): Copies data from oldpath to newpath.\n",
    "\n",
    "√ DeleteRecursively(...): Deletes everything under dirname recursively.\n",
    "\n",
    "√ Exists(...): Determines whether a path exists or not.\n",
    "\n",
    "Glob(...): Returns a list of files that match the given pattern(s).\n",
    "\n",
    "√ IsDirectory(...): Returns whether the path is a directory or not.\n",
    "\n",
    "√ ListDirectory(...): Returns a list of entries contained within a directory.\n",
    "\n",
    "MakeDirs(...): Creates a directory and all parent/intermediate directories.\n",
    "\n",
    "√ MkDir(...): Creates a directory with the name 'dirname'.\n",
    "\n",
    "√ Remove(...): Deletes the file located at 'filename'.\n",
    "\n",
    "√ Rename(...): Rename or move a file / directory.\n",
    "\n",
    "√ Stat(...): Returns file statistics for a given path.\n",
    "\n",
    "√ Walk(...): Recursive directory tree generator for directories."
   ]
  },
  {
   "cell_type": "code",
   "execution_count": 74,
   "metadata": {},
   "outputs": [
    {
     "name": "stdout",
     "output_type": "stream",
     "text": [
      "Is ./testdata_src a directory? True\n",
      "./testdata_src made\n",
      "755\n",
      "770\n",
      "./testdata_src/data.txt created\n",
      "file copied from ./testdata_src/data.txt to ./testdata_src/data_dst.txt\n",
      "['data.txt', 'data_dst.txt']\n",
      "old file ./testdata_src/data_dst.txt still exists? False\n",
      "new file ./testdata_src/data_dst_new.txt exists? True\n",
      "136\n",
      "('./testdata_src', [], ['data.txt', 'data_dst_new.txt'])\n",
      "file delete recursively: None\n",
      "./testdata_src still exists? False\n"
     ]
    }
   ],
   "source": [
    "path_src = \"./testdata_src\"\n",
    "\n",
    "# clean up if exist\n",
    "if tf.gfile.Exists(path_src):\n",
    "    try:\n",
    "        tf.gfile.Remove(path_src)\n",
    "    except: \n",
    "        print(sys.exc_info())\n",
    "        os.chmod(path_src, stat.S_IWUSR | stat.S_IWGRP)\n",
    "        print(\"permission error, permission modified\")\n",
    "    print(\"existing file {} deleted\".format(path_src))\n",
    "\n",
    "# create the directory and change permission\n",
    "tf.gfile.MkDir(path_src)\n",
    "print(\"Is {0} a directory? {1}\".format(path_src, tf.gfile.IsDirectory(path_src)))\n",
    "print(\"{} made\".format(path_src))\n",
    "print(oct(os.stat(path_src).st_mode)[-3:])\n",
    "os.chmod(path_src, stat.S_IRUSR | stat.S_IWUSR | stat.S_IXUSR | stat.S_IRGRP | stat.S_IWGRP | stat.S_IXGRP)\n",
    "print(oct(os.stat(path_src).st_mode)[-3:])\n",
    "\n",
    "# create a file \n",
    "file_name = \"data.txt\"\n",
    "file_path = os.path.join(path_src, file_name)\n",
    "fout = open(file_path, 'w')\n",
    "fout.write('message')\n",
    "fout.close()\n",
    "print(\"{0} created\".format(file_path))\n",
    "\n",
    "# copy the file\n",
    "file_path_src = file_path\n",
    "file_path_dst = os.path.join(path_src, \"data_dst.txt\")\n",
    "tf.gfile.Copy(oldpath=file_path_src, newpath=file_path_dst, overwrite=True)\n",
    "print(\"file copied from {0} to {1}\".format(file_path_src, file_path_dst))\n",
    "\n",
    "print(tf.gfile.ListDirectory(path_src))\n",
    "\n",
    "tf.gfile.Rename(oldname=file_path_dst, newname=os.path.join(path_src, \"data_dst_new.txt\"), overwrite=True)\n",
    "print(\"old file {0} still exists? {1}\".format(file_path_dst, tf.gfile.Exists(file_path_dst)))\n",
    "print(\"new file {0} exists? {1}\".format(os.path.join(path_src, \"data_dst_new.txt\"), \n",
    "                                        tf.gfile.Exists(os.path.join(path_src, \"data_dst_new.txt\"))))\n",
    "\n",
    "stats = tf.gfile.Stat(path_src)\n",
    "print(stats.length)\n",
    "\n",
    "for e in tf.gfile.Walk(path_src):\n",
    "    print(e)\n",
    "    \n",
    "# clean up the environment\n",
    "print(\"file delete recursively: {}\".format(tf.gfile.DeleteRecursively(path_src)))\n",
    "print(\"{0} still exists? {1}\".format(path_src, tf.gfile.Exists(path_src)))"
   ]
  },
  {
   "cell_type": "markdown",
   "metadata": {},
   "source": []
  },
  {
   "cell_type": "code",
   "execution_count": null,
   "metadata": {
    "collapsed": true
   },
   "outputs": [],
   "source": []
  }
 ],
 "metadata": {
  "kernelspec": {
   "display_name": "Python 3",
   "language": "python",
   "name": "python3"
  },
  "language_info": {
   "codemirror_mode": {
    "name": "ipython",
    "version": 3
   },
   "file_extension": ".py",
   "mimetype": "text/x-python",
   "name": "python",
   "nbconvert_exporter": "python",
   "pygments_lexer": "ipython3",
   "version": "3.6.3"
  }
 },
 "nbformat": 4,
 "nbformat_minor": 2
}
