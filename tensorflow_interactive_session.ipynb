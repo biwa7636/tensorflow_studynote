{
 "cells": [
  {
   "cell_type": "markdown",
   "metadata": {},
   "source": [
    "[Tutorial](https://www.tensorflow.org/tutorials/wide), [source code](https://github.com/tensorflow/models/blob/master/official/wide_deep/wide_deep.py) and [my blog article](https://wordpress.com/post/datafireball.com/4097). \n",
    "\n",
    "This notebook mostly revolves around how to read in CSV data as demonstrated in the the tensorflow wide_deep example. "
   ]
  },
  {
   "cell_type": "code",
   "execution_count": 98,
   "metadata": {},
   "outputs": [],
   "source": [
    "import tensorflow as tf\n",
    "sess = tf.InteractiveSession()"
   ]
  },
  {
   "cell_type": "markdown",
   "metadata": {},
   "source": [
    "## OrderedDict"
   ]
  },
  {
   "cell_type": "code",
   "execution_count": 34,
   "metadata": {},
   "outputs": [
    {
     "name": "stdout",
     "output_type": "stream",
     "text": [
      "OrderedDict([(1, 1), (2, 2), (3, 3), (4, 4)])\n",
      "OrderedDict([(1, 1), (2, 2), (3, 3), (4, 4), (5, 5)])\n",
      "OrderedDict([(1, 1), (2, 2), (3, 3), (4, 4), (5, 5), ('5', 5)])\n"
     ]
    }
   ],
   "source": [
    "import collections\n",
    "d1 = collections.OrderedDict([\n",
    "    (1,1), \n",
    "    (2,2), \n",
    "    (3,3),\n",
    "    (4,4)\n",
    "])\n",
    "print(d1)\n",
    "d1[5] = 5\n",
    "print(d1)\n",
    "d1['5'] = 5\n",
    "print(d1)"
   ]
  },
  {
   "cell_type": "markdown",
   "metadata": {},
   "source": [
    "## decode_csv"
   ]
  },
  {
   "cell_type": "code",
   "execution_count": 95,
   "metadata": {},
   "outputs": [
    {
     "data": {
      "text/plain": [
       "{'x1': <tf.Tensor 'DecodeCSV_23:1' shape=(3,) dtype=int32>,\n",
       " 'x2': <tf.Tensor 'DecodeCSV_23:2' shape=(3,) dtype=float32>,\n",
       " 'x3': <tf.Tensor 'DecodeCSV_23:3' shape=(3,) dtype=string>,\n",
       " 'y': <tf.Tensor 'DecodeCSV_23:0' shape=(3,) dtype=int32>}"
      ]
     },
     "execution_count": 95,
     "metadata": {},
     "output_type": "execute_result"
    }
   ],
   "source": [
    "_CSV_COLUMNS = ['y','x1','x2','x3']\n",
    "\n",
    "input_text = \"\"\"\n",
    "1,,,\"\"\n",
    "2,5,2.0,\"2\"\n",
    "3,6,3.0,\"3\"\n",
    "\"\"\".strip()\n",
    "records = input_text.split('\\n')\n",
    "defaults = [[0],[0],[0.0],[\"\"]]\n",
    "columns = tf.decode_csv(records, record_defaults=defaults)\n",
    "features = dict(zip(_CSV_COLUMNS, columns))\n",
    "features"
   ]
  },
  {
   "cell_type": "code",
   "execution_count": 96,
   "metadata": {},
   "outputs": [
    {
     "data": {
      "text/plain": [
       "{'x1': <tf.Tensor 'DecodeCSV_23:1' shape=(3,) dtype=int32>,\n",
       " 'x2': <tf.Tensor 'DecodeCSV_23:2' shape=(3,) dtype=float32>,\n",
       " 'x3': <tf.Tensor 'DecodeCSV_23:3' shape=(3,) dtype=string>}"
      ]
     },
     "execution_count": 96,
     "metadata": {},
     "output_type": "execute_result"
    }
   ],
   "source": [
    "labels = features.pop('y')\n",
    "features"
   ]
  },
  {
   "cell_type": "code",
   "execution_count": 97,
   "metadata": {},
   "outputs": [
    {
     "name": "stdout",
     "output_type": "stream",
     "text": [
      "Tensor(\"DecodeCSV_23:0\", shape=(3,), dtype=int32)\n",
      "[1 2 3]\n",
      "[False  True False]\n"
     ]
    }
   ],
   "source": [
    "print(labels)\n",
    "print(labels.eval())\n",
    "print(tf.equal(labels, 2).eval())"
   ]
  },
  {
   "cell_type": "markdown",
   "metadata": {},
   "source": [
    "## dict zip"
   ]
  },
  {
   "cell_type": "code",
   "execution_count": 83,
   "metadata": {},
   "outputs": [
    {
     "name": "stdout",
     "output_type": "stream",
     "text": [
      "[(1, 1), ('k1', 'v1'), ('k2', 'v2')]\n",
      "[]\n",
      "<zip object at 0x18222bb408>\n",
      "{1: 1, 'k1': 'v1', 'k2': 'v2'}\n",
      "{1: 1, 'k1': 'v1', 'k2': 'v2'}\n"
     ]
    }
   ],
   "source": [
    "z = zip([1,'k1','k2'], [1,'v1','v2'])\n",
    "print(list(z))\n",
    "print(list(z))\n",
    "z = zip([1,'k1','k2'], [1,'v1','v2'])\n",
    "#https://stackoverflow.com/questions/19777612/python-range-and-zip-object-type\n",
    "#In Python3 z will not consume memory until needed as a generator on demand\n",
    "print(z)\n",
    "print(dict(z))\n",
    "print(dict(zip([1,'k1','k2'], [1,'v1','v2'])))"
   ]
  },
  {
   "cell_type": "code",
   "execution_count": null,
   "metadata": {
    "collapsed": true
   },
   "outputs": [],
   "source": []
  }
 ],
 "metadata": {
  "kernelspec": {
   "display_name": "Python 3",
   "language": "python",
   "name": "python3"
  },
  "language_info": {
   "codemirror_mode": {
    "name": "ipython",
    "version": 3
   },
   "file_extension": ".py",
   "mimetype": "text/x-python",
   "name": "python",
   "nbconvert_exporter": "python",
   "pygments_lexer": "ipython3",
   "version": "3.6.3"
  }
 },
 "nbformat": 4,
 "nbformat_minor": 2
}
