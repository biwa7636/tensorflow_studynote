{
 "cells": [
  {
   "cell_type": "markdown",
   "metadata": {},
   "source": [
    "[Tutorial](https://www.tensorflow.org/tutorials/wide), [source code](https://github.com/tensorflow/models/blob/master/official/wide_deep/wide_deep.py) and [my blog article](https://wordpress.com/post/datafireball.com/4097). \n",
    "\n",
    "This notebook mostly revolves around how to read in CSV data as demonstrated in the the tensorflow wide_deep example. "
   ]
  },
  {
   "cell_type": "code",
   "execution_count": 1,
   "metadata": {},
   "outputs": [
    {
     "name": "stderr",
     "output_type": "stream",
     "text": [
      "/home/datafireball/anaconda3/lib/python3.6/importlib/_bootstrap.py:219: RuntimeWarning: compiletime version 3.5 of module 'tensorflow.python.framework.fast_tensor_util' does not match runtime version 3.6\n",
      "  return f(*args, **kwds)\n"
     ]
    }
   ],
   "source": [
    "import tensorflow as tf\n",
    "import pandas as pd\n",
    "import collections\n",
    "import sys\n",
    "sess = tf.InteractiveSession()"
   ]
  },
  {
   "cell_type": "markdown",
   "metadata": {},
   "source": [
    "## OrderedDict"
   ]
  },
  {
   "cell_type": "code",
   "execution_count": 2,
   "metadata": {},
   "outputs": [
    {
     "name": "stdout",
     "output_type": "stream",
     "text": [
      "OrderedDict([(1, 1), (2, 2), (3, 3), (4, 4)])\n",
      "OrderedDict([(1, 1), (2, 2), (3, 3), (4, 4), (5, 5)])\n",
      "OrderedDict([(1, 1), (2, 2), (3, 3), (4, 4), (5, 5), ('5', 5)])\n"
     ]
    }
   ],
   "source": [
    "d1 = collections.OrderedDict([\n",
    "    (1,1), \n",
    "    (2,2), \n",
    "    (3,3),\n",
    "    (4,4)\n",
    "])\n",
    "print(d1)\n",
    "d1[5] = 5\n",
    "print(d1)\n",
    "d1['5'] = 5\n",
    "print(d1)"
   ]
  },
  {
   "cell_type": "markdown",
   "metadata": {},
   "source": [
    "## decode_csv"
   ]
  },
  {
   "cell_type": "code",
   "execution_count": 6,
   "metadata": {},
   "outputs": [
    {
     "data": {
      "text/plain": [
       "{'x1': <tf.Tensor 'DecodeCSV:1' shape=(3,) dtype=int32>,\n",
       " 'x2': <tf.Tensor 'DecodeCSV:2' shape=(3,) dtype=float32>,\n",
       " 'x3': <tf.Tensor 'DecodeCSV:3' shape=(3,) dtype=string>,\n",
       " 'y': <tf.Tensor 'DecodeCSV:0' shape=(3,) dtype=int32>}"
      ]
     },
     "execution_count": 6,
     "metadata": {},
     "output_type": "execute_result"
    }
   ],
   "source": [
    "_CSV_COLUMNS = ['y','x1','x2','x3']\n",
    "\n",
    "input_text = \"\"\"\n",
    "1,,,\"\"\n",
    "2,5,2.0,\"2\"\n",
    "3,6,3.0,\"3\"\n",
    "\"\"\".strip()\n",
    "records = input_text.split('\\n')\n",
    "defaults = [[0],[0],[0.0],[\"\"]]\n",
    "columns = tf.decode_csv(records, record_defaults=defaults)\n",
    "features = dict(zip(_CSV_COLUMNS, columns))\n",
    "features"
   ]
  },
  {
   "cell_type": "code",
   "execution_count": 7,
   "metadata": {},
   "outputs": [
    {
     "name": "stdout",
     "output_type": "stream",
     "text": [
      "y [1 2 3]\n",
      "x1 [0 5 6]\n",
      "x2 [ 0.  2.  3.]\n",
      "x3 [b'' b'2' b'3']\n"
     ]
    }
   ],
   "source": [
    "for k, v in features.items():\n",
    "    print(k, v.eval())"
   ]
  },
  {
   "cell_type": "code",
   "execution_count": 4,
   "metadata": {},
   "outputs": [
    {
     "data": {
      "text/plain": [
       "{'x1': <tf.Tensor 'DecodeCSV:1' shape=(3,) dtype=int32>,\n",
       " 'x2': <tf.Tensor 'DecodeCSV:2' shape=(3,) dtype=float32>,\n",
       " 'x3': <tf.Tensor 'DecodeCSV:3' shape=(3,) dtype=string>}"
      ]
     },
     "execution_count": 4,
     "metadata": {},
     "output_type": "execute_result"
    }
   ],
   "source": [
    "labels = features.pop('y')\n",
    "features"
   ]
  },
  {
   "cell_type": "code",
   "execution_count": 5,
   "metadata": {},
   "outputs": [
    {
     "name": "stdout",
     "output_type": "stream",
     "text": [
      "Tensor(\"DecodeCSV:0\", shape=(3,), dtype=int32)\n",
      "[1 2 3]\n",
      "[False  True False]\n"
     ]
    }
   ],
   "source": [
    "print(labels)\n",
    "print(labels.eval())\n",
    "print(tf.equal(labels, 2).eval())"
   ]
  },
  {
   "cell_type": "markdown",
   "metadata": {},
   "source": [
    "## dict zip"
   ]
  },
  {
   "cell_type": "code",
   "execution_count": 6,
   "metadata": {},
   "outputs": [
    {
     "name": "stdout",
     "output_type": "stream",
     "text": [
      "[(1, 1), ('k1', 'v1'), ('k2', 'v2')]\n",
      "[]\n",
      "<zip object at 0x1818aa9888>\n",
      "{1: 1, 'k1': 'v1', 'k2': 'v2'}\n",
      "{1: 1, 'k1': 'v1', 'k2': 'v2'}\n"
     ]
    }
   ],
   "source": [
    "z = zip([1,'k1','k2'], [1,'v1','v2'])\n",
    "print(list(z))\n",
    "print(list(z))\n",
    "z = zip([1,'k1','k2'], [1,'v1','v2'])\n",
    "#https://stackoverflow.com/questions/19777612/python-range-and-zip-object-type\n",
    "#In Python3 z will not consume memory until needed as a generator on demand\n",
    "print(z)\n",
    "print(dict(z))\n",
    "print(dict(zip([1,'k1','k2'], [1,'v1','v2'])))"
   ]
  },
  {
   "cell_type": "markdown",
   "metadata": {},
   "source": [
    "## TextLineDataset"
   ]
  },
  {
   "cell_type": "code",
   "execution_count": 2,
   "metadata": {},
   "outputs": [
    {
     "data": {
      "text/html": [
       "<div>\n",
       "<style>\n",
       "    .dataframe thead tr:only-child th {\n",
       "        text-align: right;\n",
       "    }\n",
       "\n",
       "    .dataframe thead th {\n",
       "        text-align: left;\n",
       "    }\n",
       "\n",
       "    .dataframe tbody tr th {\n",
       "        vertical-align: top;\n",
       "    }\n",
       "</style>\n",
       "<table border=\"1\" class=\"dataframe\">\n",
       "  <thead>\n",
       "    <tr style=\"text-align: right;\">\n",
       "      <th></th>\n",
       "      <th>x1</th>\n",
       "      <th>x2</th>\n",
       "      <th>x3</th>\n",
       "      <th>y</th>\n",
       "    </tr>\n",
       "  </thead>\n",
       "  <tbody>\n",
       "    <tr>\n",
       "      <th>0</th>\n",
       "      <td>4</td>\n",
       "      <td>7.0</td>\n",
       "      <td>ten</td>\n",
       "      <td>1</td>\n",
       "    </tr>\n",
       "    <tr>\n",
       "      <th>1</th>\n",
       "      <td>5</td>\n",
       "      <td>8.0</td>\n",
       "      <td>eleven</td>\n",
       "      <td>2</td>\n",
       "    </tr>\n",
       "    <tr>\n",
       "      <th>2</th>\n",
       "      <td>6</td>\n",
       "      <td>9.0</td>\n",
       "      <td>twelve</td>\n",
       "      <td>3</td>\n",
       "    </tr>\n",
       "  </tbody>\n",
       "</table>\n",
       "</div>"
      ],
      "text/plain": [
       "   x1   x2      x3  y\n",
       "0   4  7.0     ten  1\n",
       "1   5  8.0  eleven  2\n",
       "2   6  9.0  twelve  3"
      ]
     },
     "execution_count": 2,
     "metadata": {},
     "output_type": "execute_result"
    }
   ],
   "source": [
    "data = pd.DataFrame({\n",
    "    'y': [1,2,3],\n",
    "    'x1':[4,5,6],\n",
    "    'x2':[7.0,8.0,9.0],\n",
    "    'x3':['ten','eleven','twelve']\n",
    "})\n",
    "file_path = 'tmp.csv'\n",
    "data.to_csv(file_path, index=False, header=False)\n",
    "data"
   ]
  },
  {
   "cell_type": "code",
   "execution_count": 20,
   "metadata": {},
   "outputs": [
    {
     "name": "stdout",
     "output_type": "stream",
     "text": [
      "x1 4\n",
      "x2 7.0\n",
      "x3 b'ten'\n",
      "False\n",
      "--------------------------------------------------\n",
      "x1 5\n",
      "x2 8.0\n",
      "x3 b'eleven'\n",
      "False\n",
      "--------------------------------------------------\n",
      "x1 6\n",
      "x2 9.0\n",
      "x3 b'twelve'\n",
      "True\n",
      "--------------------------------------------------\n",
      "(<class 'tensorflow.python.framework.errors_impl.OutOfRangeError'>, OutOfRangeError(), <traceback object at 0x7f1b202d5188>)\n",
      "--------------------------------------------------\n"
     ]
    }
   ],
   "source": [
    "def parse_csv(line):\n",
    "    _CSV_COLUMNS = ['x1','x2','x3','y']\n",
    "    defaults = [[0],[0.0],[''],[0]]\n",
    "    columns = tf.decode_csv(line, record_defaults=defaults)\n",
    "    features = dict(zip(_CSV_COLUMNS, columns))\n",
    "    labels = features.pop('y')\n",
    "    return features, tf.equal(labels, 3)\n",
    "\n",
    "dataset = tf.data.TextLineDataset(file_path)\n",
    "dataset = dataset.map(parse_csv)\n",
    "\n",
    "iterator = dataset.make_one_shot_iterator()\n",
    "#https://stackoverflow.com/questions/48029704/tensorflow-parse-csv-iterator-shift-by-one-row\n",
    "record = iterator.get_next()\n",
    "\n",
    "while(1):\n",
    "    try:\n",
    "        # session.run will advance the iterator to get next\n",
    "        # if you do features, labels = record\n",
    "        # and then sess.run(features), sess.run(label) separately, that is going to advance unexpectedly.\n",
    "        features, labels = sess.run(record)\n",
    "        for k,v in features.items():\n",
    "            print(k, v)\n",
    "        print(labels)\n",
    "    except:\n",
    "        print(sys.exc_info())\n",
    "        break\n",
    "    finally:\n",
    "        print('-'*50)"
   ]
  },
  {
   "cell_type": "markdown",
   "metadata": {
    "collapsed": true
   },
   "source": [
    "[source](https://www.tensorflow.org/programmers_guide/datasets#consuming_values_from_an_iterator)\n",
    "\n",
    "\"The Iterator.get_next() method returns one or more tf.Tensor objects that correspond to the symbolic next element of an iterator. Each time these tensors are evaluated, they take the value of the next element in the underlying dataset. (Note that, like other stateful objects in TensorFlow, calling Iterator.get_next() does not immediately advance the iterator. Instead you must use the returned tf.Tensor objects in a TensorFlow expression, and pass the result of that expression to *tf.Session.run()* to get the next elements and advance the iterator.)\n",
    "\n",
    "If the iterator reaches the end of the dataset, executing the Iterator.get_next() operation will raise a tf.errors.OutOfRangeError. After this point the iterator will be in an unusable state, and you must initialize it again if you want to use it further.\"\n"
   ]
  },
  {
   "cell_type": "code",
   "execution_count": null,
   "metadata": {
    "collapsed": true
   },
   "outputs": [],
   "source": []
  }
 ],
 "metadata": {
  "kernelspec": {
   "display_name": "Python 3",
   "language": "python",
   "name": "python3"
  },
  "language_info": {
   "codemirror_mode": {
    "name": "ipython",
    "version": 3
   },
   "file_extension": ".py",
   "mimetype": "text/x-python",
   "name": "python",
   "nbconvert_exporter": "python",
   "pygments_lexer": "ipython3",
   "version": "3.6.3"
  }
 },
 "nbformat": 4,
 "nbformat_minor": 2
}
