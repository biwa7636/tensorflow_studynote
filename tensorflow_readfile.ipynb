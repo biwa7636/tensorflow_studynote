{
 "cells": [
  {
   "cell_type": "code",
   "execution_count": 1,
   "metadata": {},
   "outputs": [
    {
     "name": "stderr",
     "output_type": "stream",
     "text": [
      "/Users/a59347/anaconda3/lib/python3.6/importlib/_bootstrap.py:219: RuntimeWarning: compiletime version 3.5 of module 'tensorflow.python.framework.fast_tensor_util' does not match runtime version 3.6\n",
      "  return f(*args, **kwds)\n"
     ]
    }
   ],
   "source": [
    "import tensorflow as tf\n",
    "import pandas as pd\n",
    "import urllib.request"
   ]
  },
  {
   "cell_type": "code",
   "execution_count": 2,
   "metadata": {},
   "outputs": [
    {
     "data": {
      "text/plain": [
       "('data.csv', <http.client.HTTPMessage at 0x1814229e80>)"
      ]
     },
     "execution_count": 2,
     "metadata": {},
     "output_type": "execute_result"
    }
   ],
   "source": [
    "url = \"https://raw.githubusercontent.com/vincentarelbundock/Rdatasets/master/csv/datasets/mtcars.csv\"\n",
    "file_name = \"data.csv\"\n",
    "urllib.request.urlretrieve(url, file_name)"
   ]
  },
  {
   "cell_type": "code",
   "execution_count": 3,
   "metadata": {},
   "outputs": [
    {
     "data": {
      "text/html": [
       "<div>\n",
       "<style>\n",
       "    .dataframe thead tr:only-child th {\n",
       "        text-align: right;\n",
       "    }\n",
       "\n",
       "    .dataframe thead th {\n",
       "        text-align: left;\n",
       "    }\n",
       "\n",
       "    .dataframe tbody tr th {\n",
       "        vertical-align: top;\n",
       "    }\n",
       "</style>\n",
       "<table border=\"1\" class=\"dataframe\">\n",
       "  <thead>\n",
       "    <tr style=\"text-align: right;\">\n",
       "      <th></th>\n",
       "      <th>Unnamed: 0</th>\n",
       "      <th>mpg</th>\n",
       "      <th>cyl</th>\n",
       "      <th>disp</th>\n",
       "      <th>hp</th>\n",
       "      <th>drat</th>\n",
       "      <th>wt</th>\n",
       "      <th>qsec</th>\n",
       "      <th>vs</th>\n",
       "      <th>am</th>\n",
       "      <th>gear</th>\n",
       "      <th>carb</th>\n",
       "    </tr>\n",
       "  </thead>\n",
       "  <tbody>\n",
       "    <tr>\n",
       "      <th>0</th>\n",
       "      <td>Mazda RX4</td>\n",
       "      <td>21.0</td>\n",
       "      <td>6</td>\n",
       "      <td>160.0</td>\n",
       "      <td>110</td>\n",
       "      <td>3.90</td>\n",
       "      <td>2.620</td>\n",
       "      <td>16.46</td>\n",
       "      <td>0</td>\n",
       "      <td>1</td>\n",
       "      <td>4</td>\n",
       "      <td>4</td>\n",
       "    </tr>\n",
       "    <tr>\n",
       "      <th>1</th>\n",
       "      <td>Mazda RX4 Wag</td>\n",
       "      <td>21.0</td>\n",
       "      <td>6</td>\n",
       "      <td>160.0</td>\n",
       "      <td>110</td>\n",
       "      <td>3.90</td>\n",
       "      <td>2.875</td>\n",
       "      <td>17.02</td>\n",
       "      <td>0</td>\n",
       "      <td>1</td>\n",
       "      <td>4</td>\n",
       "      <td>4</td>\n",
       "    </tr>\n",
       "    <tr>\n",
       "      <th>2</th>\n",
       "      <td>Datsun 710</td>\n",
       "      <td>22.8</td>\n",
       "      <td>4</td>\n",
       "      <td>108.0</td>\n",
       "      <td>93</td>\n",
       "      <td>3.85</td>\n",
       "      <td>2.320</td>\n",
       "      <td>18.61</td>\n",
       "      <td>1</td>\n",
       "      <td>1</td>\n",
       "      <td>4</td>\n",
       "      <td>1</td>\n",
       "    </tr>\n",
       "    <tr>\n",
       "      <th>3</th>\n",
       "      <td>Hornet 4 Drive</td>\n",
       "      <td>21.4</td>\n",
       "      <td>6</td>\n",
       "      <td>258.0</td>\n",
       "      <td>110</td>\n",
       "      <td>3.08</td>\n",
       "      <td>3.215</td>\n",
       "      <td>19.44</td>\n",
       "      <td>1</td>\n",
       "      <td>0</td>\n",
       "      <td>3</td>\n",
       "      <td>1</td>\n",
       "    </tr>\n",
       "    <tr>\n",
       "      <th>4</th>\n",
       "      <td>Hornet Sportabout</td>\n",
       "      <td>18.7</td>\n",
       "      <td>8</td>\n",
       "      <td>360.0</td>\n",
       "      <td>175</td>\n",
       "      <td>3.15</td>\n",
       "      <td>3.440</td>\n",
       "      <td>17.02</td>\n",
       "      <td>0</td>\n",
       "      <td>0</td>\n",
       "      <td>3</td>\n",
       "      <td>2</td>\n",
       "    </tr>\n",
       "  </tbody>\n",
       "</table>\n",
       "</div>"
      ],
      "text/plain": [
       "          Unnamed: 0   mpg  cyl   disp   hp  drat     wt   qsec  vs  am  gear  \\\n",
       "0          Mazda RX4  21.0    6  160.0  110  3.90  2.620  16.46   0   1     4   \n",
       "1      Mazda RX4 Wag  21.0    6  160.0  110  3.90  2.875  17.02   0   1     4   \n",
       "2         Datsun 710  22.8    4  108.0   93  3.85  2.320  18.61   1   1     4   \n",
       "3     Hornet 4 Drive  21.4    6  258.0  110  3.08  3.215  19.44   1   0     3   \n",
       "4  Hornet Sportabout  18.7    8  360.0  175  3.15  3.440  17.02   0   0     3   \n",
       "\n",
       "   carb  \n",
       "0     4  \n",
       "1     4  \n",
       "2     1  \n",
       "3     1  \n",
       "4     2  "
      ]
     },
     "execution_count": 3,
     "metadata": {},
     "output_type": "execute_result"
    }
   ],
   "source": [
    "df = pd.read_csv(url)\n",
    "df.head()"
   ]
  },
  {
   "cell_type": "code",
   "execution_count": 6,
   "metadata": {},
   "outputs": [
    {
     "name": "stdout",
     "output_type": "stream",
     "text": [
      "car\n",
      "Tensor(\"IteratorGetNext:1\", shape=(?,), dtype=string)\n",
      "cyl\n",
      "Tensor(\"IteratorGetNext:3\", shape=(?,), dtype=int32)\n",
      "disp\n",
      "Tensor(\"IteratorGetNext:4\", shape=(?,), dtype=float32)\n",
      "hp\n",
      "Tensor(\"IteratorGetNext:7\", shape=(?,), dtype=int32)\n",
      "drat\n",
      "Tensor(\"IteratorGetNext:5\", shape=(?,), dtype=float32)\n",
      "wt\n",
      "Tensor(\"IteratorGetNext:10\", shape=(?,), dtype=float32)\n",
      "qsec\n",
      "Tensor(\"IteratorGetNext:8\", shape=(?,), dtype=float32)\n",
      "vs\n",
      "Tensor(\"IteratorGetNext:9\", shape=(?,), dtype=int32)\n",
      "am\n",
      "Tensor(\"IteratorGetNext:0\", shape=(?,), dtype=int32)\n",
      "gear\n",
      "Tensor(\"IteratorGetNext:6\", shape=(?,), dtype=int32)\n",
      "carb\n",
      "Tensor(\"IteratorGetNext:2\", shape=(?,), dtype=int32)\n",
      "----------\n",
      "Tensor(\"IteratorGetNext:11\", shape=(?,), dtype=bool)\n",
      "----------\n",
      "({'car': <tf.Tensor 'IteratorGetNext:1' shape=(?,) dtype=string>, 'cyl': <tf.Tensor 'IteratorGetNext:3' shape=(?,) dtype=int32>, 'disp': <tf.Tensor 'IteratorGetNext:4' shape=(?,) dtype=float32>, 'hp': <tf.Tensor 'IteratorGetNext:7' shape=(?,) dtype=int32>, 'drat': <tf.Tensor 'IteratorGetNext:5' shape=(?,) dtype=float32>, 'wt': <tf.Tensor 'IteratorGetNext:10' shape=(?,) dtype=float32>, 'qsec': <tf.Tensor 'IteratorGetNext:8' shape=(?,) dtype=float32>, 'vs': <tf.Tensor 'IteratorGetNext:9' shape=(?,) dtype=int32>, 'am': <tf.Tensor 'IteratorGetNext:0' shape=(?,) dtype=int32>, 'gear': <tf.Tensor 'IteratorGetNext:6' shape=(?,) dtype=int32>, 'carb': <tf.Tensor 'IteratorGetNext:2' shape=(?,) dtype=int32>}, <tf.Tensor 'IteratorGetNext:11' shape=(?,) dtype=bool>)\n"
     ]
    }
   ],
   "source": [
    "def input_fn(data_file, num_epochs, shuffle, batch_size):\n",
    "    \n",
    "    _COLUMN_DEFAULTS = [\n",
    "        tf.constant([''], dtype=tf.string),    #0: car \n",
    "        tf.constant([0], dtype=tf.float32),    #1: mpg \n",
    "        tf.constant([0], dtype=tf.int32),    #2: cyl\n",
    "        tf.constant([0], dtype=tf.float32),   #3: disp\n",
    "        tf.constant([0], dtype=tf.int32),   #4: hp\n",
    "        tf.constant([0], dtype=tf.float32), #5. drat\n",
    "        tf.constant([0], dtype=tf.float32), # wt\n",
    "        tf.constant([0], dtype=tf.float32), # qsec\n",
    "        tf.constant([0], dtype=tf.int32), # vs\n",
    "        tf.constant([0], dtype=tf.int32), # am\n",
    "        tf.constant([0], dtype=tf.int32), # gear\n",
    "        tf.constant([0], dtype=tf.int32), # carb\n",
    "    ]\n",
    "\n",
    "    _COLUMNS = [\n",
    "        'car', 'mpg', 'cyl', 'disp', 'hp', 'drat',\n",
    "        'wt', 'qsec', 'vs', 'am', 'gear', 'carb'\n",
    "    ]\n",
    "\n",
    "    def parse_csv(v):\n",
    "        columns = tf.decode_csv(v, record_defaults=_COLUMN_DEFAULTS)\n",
    "\n",
    "        '''\n",
    "        record_defaults: A list of Tensor objects with types from: \n",
    "        float32, int32, int64, string. One tensor per column of the input record, \n",
    "        with either a scalar default value for that column or empty if the column is required.\n",
    "        '''\n",
    "        features = dict(zip(_COLUMNS, columns))\n",
    "        labels = features.pop('mpg')\n",
    "        mpg_threshold = 21\n",
    "        return features, tf.greater(labels, mpg_threshold)\n",
    "\n",
    "    dataset = tf.data.TextLineDataset(data_file)\n",
    "    dataset = dataset.map(parse_csv, num_parallel_calls=5)\n",
    "\n",
    "    # We call repeat after shuffling, rather than before, to prevent separate\n",
    "    # epochs from blending together.\n",
    "    dataset = dataset.repeat(num_epochs)\n",
    "    dataset = dataset.batch(batch_size)\n",
    "\n",
    "    iterator = dataset.make_one_shot_iterator()\n",
    "    features, labels = iterator.get_next()\n",
    "    for feature in features:\n",
    "        print(feature)\n",
    "        print(features[feature])\n",
    "    print('-'*10)\n",
    "    print(labels)\n",
    "    print('-'*10)\n",
    "\n",
    "    return features, labels\n",
    "\n",
    "print(input_fn(\"data.csv\", 100, True, 2))"
   ]
  },
  {
   "cell_type": "code",
   "execution_count": 40,
   "metadata": {
    "collapsed": true
   },
   "outputs": [],
   "source": [
    "# Iterator is a bit mystery to me at this moment, need to do some homework.\n",
    "# https://www.tensorflow.org/api_docs/python/tf/data/Iterator"
   ]
  },
  {
   "cell_type": "code",
   "execution_count": 44,
   "metadata": {},
   "outputs": [],
   "source": []
  },
  {
   "cell_type": "code",
   "execution_count": null,
   "metadata": {
    "collapsed": true
   },
   "outputs": [],
   "source": []
  }
 ],
 "metadata": {
  "kernelspec": {
   "display_name": "Python 3",
   "language": "python",
   "name": "python3"
  },
  "language_info": {
   "codemirror_mode": {
    "name": "ipython",
    "version": 3
   },
   "file_extension": ".py",
   "mimetype": "text/x-python",
   "name": "python",
   "nbconvert_exporter": "python",
   "pygments_lexer": "ipython3",
   "version": "3.6.3"
  }
 },
 "nbformat": 4,
 "nbformat_minor": 2
}
